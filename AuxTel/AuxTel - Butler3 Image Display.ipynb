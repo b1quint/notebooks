{
 "cells": [
  {
   "cell_type": "markdown",
   "id": "980132c6",
   "metadata": {},
   "source": [
    "# AuxTel - Butler3 Image Display\n",
    "\n",
    "Trying to run Butler3 to open AuxTel images."
   ]
  },
  {
   "cell_type": "code",
   "execution_count": 20,
   "id": "f517b183",
   "metadata": {},
   "outputs": [],
   "source": [
    "import numpy as np\n",
    "import matplotlib.pyplot as plt\n",
    "\n",
    "import lsst.daf.butler.cli.cliLog as cliLog\n",
    "import lsst.daf.butler as dafButler"
   ]
  },
  {
   "cell_type": "code",
   "execution_count": 36,
   "id": "1aef7aeb",
   "metadata": {},
   "outputs": [
    {
     "name": "stdout",
     "output_type": "stream",
     "text": [
      "LATISS/raw/all\n",
      "LATISS/calib\n",
      "LATISS/calib/unbounded\n",
      "LATISS/calib/curated/19700101T000000Z\n",
      "LATISS/calib/curated/20180101T000000Z\n",
      "LATISS/calib/u/plazas/2021JUN29.1\n",
      "LATISS/calib/u/plazas/2021Jun12.test.1\n",
      "LATISS/calib/u/plazas/2021JUL20.test.1\n",
      "LATISS/calib/u/ashugart/20210818.test\n",
      "LATISS/calib/u/ashugart/20210820.test\n",
      "LATISS/calib/u/plazas/DM-31306-2021AUG24.test2\n",
      "LATISS/calib/u/plazas/DM-31306-2021AUG24.test3\n",
      "LATISS/calib/u/plazas/DM-31306-2021AUG24.test5\n",
      "LATISS/calib/u/plazas/DM-31306-2021AUG24.test6\n",
      "LATISS/calib/u/plazas/DM-31306-2021AUG24.test7\n",
      "LATISS/calib/u/plazas/DM-31306-2021AUG24.test8\n",
      "LATISS/calib/u/plazas/DM-31306-2021AUG24.test9\n",
      "LATISS/calib/u/plazas/DM-31306-2021AUG24.test10\n",
      "LATISS/calib/u/plazas/DM-31306-2021AUG24.test11\n",
      "LATISS/calib/u/plazas/DM-31306-2021AUG24.test12\n",
      "LATISS/calib/u/plazas/DM-31306-2021AUG24.test13\n",
      "LATISS/calib/u/plazas/DM-31306-2021AUG24.test14\n",
      "LATISS/calib/u/plazas/DM-31306-2021AUG24.1\n",
      "LATISS/calib/u/plazas/daily.2021SEP01.test3\n",
      "LATISS/calib/u/plazas/daily.2021SEP01.test4\n",
      "LATISS/calib/u/plazas/daily.2021SEP09.test1\n",
      "LATISS/calib/u/plazas/daily.2021SEP09.test3\n"
     ]
    }
   ],
   "source": [
    "repo = '/repo/LATISS/'\n",
    "butler = dafButler.Butler(repo)\n",
    "\n",
    "registry = butler.registry\n",
    "\n",
    "collections = [collection for collection in registry.queryCollections() \n",
    "              if collection.startswith('LATISS')]\n",
    "\n",
    "for c in collections:\n",
    "    print(c)"
   ]
  },
  {
   "cell_type": "code",
   "execution_count": 42,
   "id": "0db22b83",
   "metadata": {},
   "outputs": [
    {
     "name": "stdout",
     "output_type": "stream",
     "text": [
      "LATISS/raw/all CollectionType.RUN\n"
     ]
    }
   ],
   "source": [
    "collection = 'LATISS/raw/all'\n",
    "for c in sorted(registry.queryCollections(collection, flattenChains=True)):\n",
    "    print(c, registry.getCollectionType(c))"
   ]
  },
  {
   "cell_type": "code",
   "execution_count": 43,
   "id": "2a0c1fc3",
   "metadata": {},
   "outputs": [],
   "source": [
    "butler = dafButler.Butler(repo, collections=collection)\n",
    "registry = butler.registry"
   ]
  },
  {
   "cell_type": "code",
   "execution_count": 44,
   "id": "0588b8f1",
   "metadata": {},
   "outputs": [
    {
     "name": "stdout",
     "output_type": "stream",
     "text": [
      "DatasetType('bias', {instrument, detector}, ExposureF, isCalibration=True)\n",
      "DatasetType('camera', {instrument}, Camera, isCalibration=True)\n",
      "DatasetType('cpBiasCombine_config', {}, Config)\n",
      "DatasetType('cpBiasCombine_log', {instrument, detector}, ButlerLogRecords)\n",
      "DatasetType('cpBiasCombine_metadata', {instrument, detector}, PropertySet)\n",
      "DatasetType('cpBiasProc', {band, instrument, detector, physical_filter, exposure}, Exposure)\n",
      "DatasetType('cpDarkCombine_config', {}, Config)\n",
      "DatasetType('cpDarkCombine_log', {instrument, detector}, ButlerLogRecords)\n",
      "DatasetType('cpDarkCombine_metadata', {instrument, detector}, PropertySet)\n",
      "DatasetType('cpDarkIsr', {band, instrument, detector, physical_filter, exposure}, Exposure)\n",
      "DatasetType('cpDarkProc', {band, instrument, detector, physical_filter, exposure}, Exposure)\n",
      "DatasetType('cpDark_config', {}, Config)\n",
      "DatasetType('cpDark_log', {band, instrument, detector, physical_filter, exposure}, ButlerLogRecords)\n",
      "DatasetType('cpDark_metadata', {band, instrument, detector, physical_filter, exposure}, PropertySet)\n",
      "DatasetType('cpDefectsProc', {band, instrument, detector, physical_filter, exposure}, Exposure)\n",
      "DatasetType('cpFlatCombine_config', {}, Config)\n",
      "DatasetType('cpFlatCombine_log', {band, instrument, detector, physical_filter}, ButlerLogRecords)\n",
      "DatasetType('cpFlatCombine_metadata', {band, instrument, detector, physical_filter}, PropertySet)\n",
      "DatasetType('cpFlatMeasure_config', {}, Config)\n",
      "DatasetType('cpFlatMeasure_log', {band, instrument, detector, physical_filter, exposure}, ButlerLogRecords)\n",
      "DatasetType('cpFlatMeasure_metadata', {band, instrument, detector, physical_filter, exposure}, PropertySet)\n",
      "DatasetType('cpFlatNormScales', {band, instrument, physical_filter}, StructuredDataDict)\n",
      "DatasetType('cpFlatNorm_config', {}, Config)\n",
      "DatasetType('cpFlatNorm_log', {band, instrument, physical_filter}, ButlerLogRecords)\n",
      "DatasetType('cpFlatNorm_metadata', {band, instrument, physical_filter}, PropertySet)\n",
      "DatasetType('cpFlatProc', {band, instrument, detector, physical_filter, exposure}, Exposure)\n",
      "DatasetType('cpPartialDefects', {band, instrument, detector, physical_filter, exposure}, Defects)\n",
      "DatasetType('dark', {instrument, detector}, ExposureF, isCalibration=True)\n",
      "DatasetType('defects', {instrument, detector}, Defects, isCalibration=True)\n",
      "DatasetType('flat', {band, instrument, detector, physical_filter}, ExposureF, isCalibration=True)\n",
      "DatasetType('flatStats', {band, instrument, detector, physical_filter, exposure}, PropertyList)\n",
      "DatasetType('isr_config', {}, Config)\n",
      "DatasetType('isr_log', {band, instrument, detector, physical_filter, exposure}, ButlerLogRecords)\n",
      "DatasetType('isr_metadata', {band, instrument, detector, physical_filter, exposure}, PropertySet)\n",
      "DatasetType('linearity', {instrument, detector}, Linearizer, isCalibration=True)\n",
      "DatasetType('measureDefects_config', {}, Config)\n",
      "DatasetType('measureDefects_log', {band, instrument, detector, physical_filter, exposure}, ButlerLogRecords)\n",
      "DatasetType('measureDefects_metadata', {band, instrument, detector, physical_filter, exposure}, PropertySet)\n",
      "DatasetType('mergeDefects_config', {}, Config)\n",
      "DatasetType('mergeDefects_log', {instrument, detector}, ButlerLogRecords)\n",
      "DatasetType('mergeDefects_metadata', {instrument, detector}, PropertySet)\n",
      "DatasetType('packages', {}, Packages)\n",
      "DatasetType('postISRCCD', {band, instrument, detector, physical_filter, exposure}, Exposure)\n",
      "DatasetType('raw', {band, instrument, detector, physical_filter, exposure}, Exposure)\n",
      "DatasetType('verifyBiasApply_config', {}, Config)\n",
      "DatasetType('verifyBiasApply_log', {band, instrument, detector, physical_filter, exposure}, ButlerLogRecords)\n",
      "DatasetType('verifyBiasApply_metadata', {band, instrument, detector, physical_filter, exposure}, PropertySet)\n",
      "DatasetType('verifyBiasDetStats', {band, instrument, detector, physical_filter, exposure}, StructuredDataDict)\n",
      "DatasetType('verifyBiasExpStats', {band, instrument, physical_filter, exposure}, StructuredDataDict)\n",
      "DatasetType('verifyBiasProc', {band, instrument, detector, physical_filter, exposure}, Exposure)\n",
      "DatasetType('verifyBiasStats', {instrument}, StructuredDataDict)\n",
      "DatasetType('verifyExposureStats_config', {}, Config)\n",
      "DatasetType('verifyExposureStats_log', {band, instrument, physical_filter, exposure}, ButlerLogRecords)\n",
      "DatasetType('verifyExposureStats_metadata', {band, instrument, physical_filter, exposure}, PropertySet)\n",
      "DatasetType('verifyMeasureStats_config', {}, Config)\n",
      "DatasetType('verifyMeasureStats_log', {band, instrument, detector, physical_filter, exposure}, ButlerLogRecords)\n",
      "DatasetType('verifyMeasureStats_metadata', {band, instrument, detector, physical_filter, exposure}, PropertySet)\n",
      "DatasetType('verifyRunStats_config', {}, Config)\n",
      "DatasetType('verifyRunStats_log', {instrument}, ButlerLogRecords)\n",
      "DatasetType('verifyRunStats_metadata', {instrument}, PropertySet)\n"
     ]
    }
   ],
   "source": [
    "for x in sorted(registry.queryDatasetTypes()):\n",
    "    print(x)"
   ]
  },
  {
   "cell_type": "code",
   "execution_count": 45,
   "id": "5154797e",
   "metadata": {},
   "outputs": [
    {
     "name": "stdout",
     "output_type": "stream",
     "text": [
      "{band: 'r', instrument: 'LATISS', detector: 0, physical_filter: 'RG610~empty', exposure: 2021081600001}\n",
      "{instrument: 'LATISS', detector: 0, exposure: 2021081600001, ...}\n",
      "r\n",
      " \n",
      "{band: 'r', instrument: 'LATISS', detector: 0, physical_filter: 'RG610~empty', exposure: 2021081600002}\n",
      "{instrument: 'LATISS', detector: 0, exposure: 2021081600002, ...}\n",
      "r\n",
      " \n",
      "{band: 'r', instrument: 'LATISS', detector: 0, physical_filter: 'RG610~empty', exposure: 2021081600003}\n",
      "{instrument: 'LATISS', detector: 0, exposure: 2021081600003, ...}\n",
      "r\n",
      " \n",
      "{band: 'r', instrument: 'LATISS', detector: 0, physical_filter: 'RG610~empty', exposure: 2021081700001}\n",
      "{instrument: 'LATISS', detector: 0, exposure: 2021081700001, ...}\n",
      "r\n",
      " \n"
     ]
    }
   ],
   "source": [
    "datasetRefs = registry.queryDatasets(datasetType='raw', collections=collection)\n",
    "\n",
    "for i, ref in enumerate(datasetRefs):\n",
    "    print(ref.dataId.full)\n",
    "    print(ref.dataId)\n",
    "    print(ref.dataId['band'])\n",
    "    print(' ')\n",
    "    if i > 2:\n",
    "        break"
   ]
  },
  {
   "cell_type": "code",
   "execution_count": 53,
   "id": "a81df48b",
   "metadata": {},
   "outputs": [
    {
     "name": "stderr",
     "output_type": "stream",
     "text": [
      "(minimum=(0, 0), maximum=(543, 2047)): (minimum=(0, 0), maximum=(575, 2047))\n"
     ]
    }
   ],
   "source": [
    "dataId = {'detector': 0, 'day_obs': 20210909, 'seq_num': 712}\n",
    "exp = butler.get('raw', dataId=dataId)"
   ]
  },
  {
   "cell_type": "code",
   "execution_count": null,
   "id": "4fdfd6b0",
   "metadata": {},
   "outputs": [],
   "source": []
  }
 ],
 "metadata": {
  "kernelspec": {
   "display_name": "LSST",
   "language": "python",
   "name": "lsst"
  },
  "language_info": {
   "codemirror_mode": {
    "name": "ipython",
    "version": 3
   },
   "file_extension": ".py",
   "mimetype": "text/x-python",
   "name": "python",
   "nbconvert_exporter": "python",
   "pygments_lexer": "ipython3",
   "version": "3.8.8"
  }
 },
 "nbformat": 4,
 "nbformat_minor": 5
}
