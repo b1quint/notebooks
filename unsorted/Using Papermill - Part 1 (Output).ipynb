{
 "cells": [
  {
   "cell_type": "markdown",
   "id": "fb41338e",
   "metadata": {
    "papermill": {
     "duration": 0.008556,
     "end_time": "2021-08-27T21:38:38.935973",
     "exception": false,
     "start_time": "2021-08-27T21:38:38.927417",
     "status": "completed"
    },
    "tags": []
   },
   "source": [
    "# Using Papermill - Part 1\n",
    "by Bruno C. Quint, 2021.08.27\n",
    "\n",
    "[Papermill] is a Python package that allows parametrizing Jupyter Notebooks and running them as they were scripts. This notebook shows a quick example of how to do so. You can see the full documentation in [papermill.readthedocs.io].\n",
    "\n",
    "[Papermill]: https://papermill.readthedocs.io/en/latest/index.html\n",
    "[papermill.readthedocs.io]: https://papermill.readthedocs.io/en/latest/index.html"
   ]
  },
  {
   "cell_type": "markdown",
   "id": "cd99e0ea",
   "metadata": {
    "papermill": {
     "duration": 0.006666,
     "end_time": "2021-08-27T21:38:38.952737",
     "exception": false,
     "start_time": "2021-08-27T21:38:38.946071",
     "status": "completed"
    },
    "tags": []
   },
   "source": [
    "## Parametrizing a cell\n",
    "\n",
    "Once you have Papermill installed, you create a new notebook (just like this one), and create a cell containing the parameters you want to configure."
   ]
  },
  {
   "cell_type": "code",
   "execution_count": 1,
   "id": "ff103561",
   "metadata": {
    "execution": {
     "iopub.execute_input": "2021-08-27T21:38:38.981957Z",
     "iopub.status.busy": "2021-08-27T21:38:38.979810Z",
     "iopub.status.idle": "2021-08-27T21:38:38.984036Z",
     "shell.execute_reply": "2021-08-27T21:38:38.984948Z"
    },
    "papermill": {
     "duration": 0.026918,
     "end_time": "2021-08-27T21:38:38.985412",
     "exception": false,
     "start_time": "2021-08-27T21:38:38.958494",
     "status": "completed"
    },
    "tags": [
     "parameters"
    ]
   },
   "outputs": [],
   "source": [
    "# This cell is tagged `parameters`\n",
    "a = 1\n",
    "twice = a * 2"
   ]
  },
  {
   "cell_type": "code",
   "execution_count": 2,
   "id": "54189337",
   "metadata": {
    "execution": {
     "iopub.execute_input": "2021-08-27T21:38:39.003894Z",
     "iopub.status.busy": "2021-08-27T21:38:39.002952Z",
     "iopub.status.idle": "2021-08-27T21:38:39.006259Z",
     "shell.execute_reply": "2021-08-27T21:38:39.005350Z"
    },
    "papermill": {
     "duration": 0.014153,
     "end_time": "2021-08-27T21:38:39.006482",
     "exception": false,
     "start_time": "2021-08-27T21:38:38.992329",
     "status": "completed"
    },
    "tags": [
     "injected-parameters"
    ]
   },
   "outputs": [],
   "source": [
    "# Parameters\n",
    "a = 3\n"
   ]
  },
  {
   "cell_type": "code",
   "execution_count": 3,
   "id": "1da1596f",
   "metadata": {
    "execution": {
     "iopub.execute_input": "2021-08-27T21:38:39.023901Z",
     "iopub.status.busy": "2021-08-27T21:38:39.023018Z",
     "iopub.status.idle": "2021-08-27T21:38:39.026405Z",
     "shell.execute_reply": "2021-08-27T21:38:39.027128Z"
    },
    "papermill": {
     "duration": 0.014952,
     "end_time": "2021-08-27T21:38:39.027363",
     "exception": false,
     "start_time": "2021-08-27T21:38:39.012411",
     "status": "completed"
    },
    "tags": []
   },
   "outputs": [
    {
     "name": "stdout",
     "output_type": "stream",
     "text": [
      "a = 3 and twice = 2\n"
     ]
    }
   ],
   "source": [
    "print(\"a =\", a, \"and twice =\", twice)"
   ]
  }
 ],
 "metadata": {
  "kernelspec": {
   "display_name": "LSST",
   "language": "python",
   "name": "lsst"
  },
  "language_info": {
   "codemirror_mode": {
    "name": "ipython",
    "version": 3
   },
   "file_extension": ".py",
   "mimetype": "text/x-python",
   "name": "python",
   "nbconvert_exporter": "python",
   "pygments_lexer": "ipython3",
   "version": "3.8.8"
  },
  "papermill": {
   "default_parameters": {},
   "duration": 13.995546,
   "end_time": "2021-08-27T21:38:39.347027",
   "environment_variables": {},
   "exception": null,
   "input_path": "Using Papermill - Part 1.ipynb",
   "output_path": "Using Papermill - Part 1 (Output).ipynb",
   "parameters": {
    "a": 3
   },
   "start_time": "2021-08-27T21:38:25.351481",
   "version": "2.3.3"
  }
 },
 "nbformat": 4,
 "nbformat_minor": 5
}