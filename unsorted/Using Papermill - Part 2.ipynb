{
 "cells": [
  {
   "cell_type": "markdown",
   "id": "e10084e8",
   "metadata": {},
   "source": [
    "# Using Papermill - Part 2\n",
    "by Bruno C. Quint, 2021.08.27\n",
    "\n",
    "\n",
    "This notebook simply calls the [Using Papermill - Part 1.ipynb] file via API and runs it.\n",
    "\n",
    "[Using Papermill - Part 1.ipynb]: Using&#32;Papermill&#32;-&#32;Part&#32;1.ipynb"
   ]
  },
  {
   "cell_type": "markdown",
   "id": "32649f37",
   "metadata": {},
   "source": [
    "## Inspect Notebook\n",
    "\n",
    "Before I run my initial notebook, I will run some inspection on it to make sure we can execute it properly. I do this easily using the following commands."
   ]
  },
  {
   "cell_type": "code",
   "execution_count": 1,
   "id": "28ecead7",
   "metadata": {},
   "outputs": [
    {
     "name": "stderr",
     "output_type": "stream",
     "text": [
      "/opt/lsst/software/stack/conda/miniconda3-py38_4.9.2/envs/lsst-scipipe-0.6.0/lib/python3.8/site-packages/papermill/iorw.py:50: FutureWarning: pyarrow.HadoopFileSystem is deprecated as of 2.0.0, please use pyarrow.fs.HadoopFileSystem instead.\n",
      "  from pyarrow import HadoopFileSystem\n"
     ]
    },
    {
     "data": {
      "text/plain": [
       "{'a': {'name': 'a', 'inferred_type_name': 'None', 'default': '1', 'help': ''},\n",
       " 'twice': {'name': 'twice',\n",
       "  'inferred_type_name': 'None',\n",
       "  'default': 'a * 2',\n",
       "  'help': ''}}"
      ]
     },
     "execution_count": 1,
     "metadata": {},
     "output_type": "execute_result"
    }
   ],
   "source": [
    "import papermill as pm\n",
    "\n",
    "pm.inspect_notebook('Using Papermill - Part 1.ipynb')"
   ]
  },
  {
   "cell_type": "markdown",
   "id": "eb16a1b6",
   "metadata": {},
   "source": [
    "## Executing Notebook\n",
    "\n",
    "Now that I know that I can run my notebook, I will run it. This will create a new notebook. The cell tagged with the `parameters` tag is duplicated and the parameters are redefined. Once you run the cell below, open the [Using Papermill - Part 1 (Output).ipynb] to see the results.\n",
    "\n",
    "[Using Papermill - Part 1 (Output).ipynb]: Using&#32;Papermill&#32;-&#32;Part&#32;1&#32;(Output).ipynb"
   ]
  },
  {
   "cell_type": "code",
   "execution_count": 2,
   "id": "16c3eda9",
   "metadata": {},
   "outputs": [
    {
     "data": {
      "application/vnd.jupyter.widget-view+json": {
       "model_id": "b85e739d24374bce8db5ccf52db658e8",
       "version_major": 2,
       "version_minor": 0
      },
      "text/plain": [
       "Executing:   0%|          | 0/5 [00:00<?, ?cell/s]"
      ]
     },
     "metadata": {},
     "output_type": "display_data"
    },
    {
     "data": {
      "text/plain": [
       "{'cells': [{'cell_type': 'markdown',\n",
       "   'id': 'fb41338e',\n",
       "   'metadata': {'tags': [],\n",
       "    'papermill': {'exception': False,\n",
       "     'start_time': '2021-08-27T21:38:38.927417',\n",
       "     'end_time': '2021-08-27T21:38:38.935973',\n",
       "     'duration': 0.008556,\n",
       "     'status': 'completed'}},\n",
       "   'source': '# Using Papermill - Part 1\\nby Bruno C. Quint, 2021.08.27\\n\\n[Papermill] is a Python package that allows parametrizing Jupyter Notebooks and running them as they were scripts. This notebook shows a quick example of how to do so. You can see the full documentation in [papermill.readthedocs.io].\\n\\n[Papermill]: https://papermill.readthedocs.io/en/latest/index.html\\n[papermill.readthedocs.io]: https://papermill.readthedocs.io/en/latest/index.html'},\n",
       "  {'cell_type': 'markdown',\n",
       "   'id': 'cd99e0ea',\n",
       "   'metadata': {'tags': [],\n",
       "    'papermill': {'exception': False,\n",
       "     'start_time': '2021-08-27T21:38:38.946071',\n",
       "     'end_time': '2021-08-27T21:38:38.952737',\n",
       "     'duration': 0.006666,\n",
       "     'status': 'completed'}},\n",
       "   'source': '## Parametrizing a cell\\n\\nOnce you have Papermill installed, you create a new notebook (just like this one), and create a cell containing the parameters you want to configure.'},\n",
       "  {'cell_type': 'code',\n",
       "   'execution_count': 1,\n",
       "   'id': 'ff103561',\n",
       "   'metadata': {'tags': ['parameters'],\n",
       "    'papermill': {'exception': False,\n",
       "     'start_time': '2021-08-27T21:38:38.958494',\n",
       "     'end_time': '2021-08-27T21:38:38.985412',\n",
       "     'duration': 0.026918,\n",
       "     'status': 'completed'},\n",
       "    'execution': {'iopub.status.busy': '2021-08-27T21:38:38.979810Z',\n",
       "     'iopub.execute_input': '2021-08-27T21:38:38.981957Z',\n",
       "     'iopub.status.idle': '2021-08-27T21:38:38.984036Z',\n",
       "     'shell.execute_reply': '2021-08-27T21:38:38.984948Z'}},\n",
       "   'outputs': [],\n",
       "   'source': '# This cell is tagged `parameters`\\na = 1\\ntwice = a * 2'},\n",
       "  {'id': '54189337',\n",
       "   'cell_type': 'code',\n",
       "   'metadata': {'tags': ['injected-parameters'],\n",
       "    'papermill': {'exception': False,\n",
       "     'start_time': '2021-08-27T21:38:38.992329',\n",
       "     'end_time': '2021-08-27T21:38:39.006482',\n",
       "     'duration': 0.014153,\n",
       "     'status': 'completed'},\n",
       "    'execution': {'iopub.status.busy': '2021-08-27T21:38:39.002952Z',\n",
       "     'iopub.execute_input': '2021-08-27T21:38:39.003894Z',\n",
       "     'shell.execute_reply': '2021-08-27T21:38:39.005350Z',\n",
       "     'iopub.status.idle': '2021-08-27T21:38:39.006259Z'}},\n",
       "   'execution_count': 2,\n",
       "   'source': '# Parameters\\na = 3\\n',\n",
       "   'outputs': []},\n",
       "  {'cell_type': 'code',\n",
       "   'execution_count': 3,\n",
       "   'id': '1da1596f',\n",
       "   'metadata': {'tags': [],\n",
       "    'papermill': {'exception': False,\n",
       "     'start_time': '2021-08-27T21:38:39.012411',\n",
       "     'end_time': '2021-08-27T21:38:39.027363',\n",
       "     'duration': 0.014952,\n",
       "     'status': 'completed'},\n",
       "    'execution': {'iopub.status.busy': '2021-08-27T21:38:39.023018Z',\n",
       "     'iopub.execute_input': '2021-08-27T21:38:39.023901Z',\n",
       "     'iopub.status.idle': '2021-08-27T21:38:39.026405Z',\n",
       "     'shell.execute_reply': '2021-08-27T21:38:39.027128Z'}},\n",
       "   'outputs': [{'output_type': 'stream',\n",
       "     'name': 'stdout',\n",
       "     'text': 'a = 3 and twice = 2\\n'}],\n",
       "   'source': 'print(\"a =\", a, \"and twice =\", twice)'}],\n",
       " 'metadata': {'kernelspec': {'display_name': 'LSST',\n",
       "   'language': 'python',\n",
       "   'name': 'lsst'},\n",
       "  'language_info': {'name': 'python',\n",
       "   'version': '3.8.8',\n",
       "   'mimetype': 'text/x-python',\n",
       "   'codemirror_mode': {'name': 'ipython', 'version': 3},\n",
       "   'pygments_lexer': 'ipython3',\n",
       "   'nbconvert_exporter': 'python',\n",
       "   'file_extension': '.py'},\n",
       "  'papermill': {'default_parameters': {},\n",
       "   'parameters': {'a': 3},\n",
       "   'environment_variables': {},\n",
       "   'version': '2.3.3',\n",
       "   'input_path': 'Using Papermill - Part 1.ipynb',\n",
       "   'output_path': 'Using Papermill - Part 1 (Output).ipynb',\n",
       "   'start_time': '2021-08-27T21:38:25.351481',\n",
       "   'end_time': '2021-08-27T21:38:39.347027',\n",
       "   'duration': 13.995546,\n",
       "   'exception': None}},\n",
       " 'nbformat': 4,\n",
       " 'nbformat_minor': 5}"
      ]
     },
     "execution_count": 2,
     "metadata": {},
     "output_type": "execute_result"
    }
   ],
   "source": [
    "pm.execute_notebook(\n",
    "   'Using Papermill - Part 1.ipynb',\n",
    "   'Using Papermill - Part 1 (Output).ipynb',\n",
    "   parameters=dict(a=3)\n",
    ")"
   ]
  },
  {
   "cell_type": "code",
   "execution_count": null,
   "id": "a59b0da0",
   "metadata": {},
   "outputs": [],
   "source": []
  }
 ],
 "metadata": {
  "kernelspec": {
   "display_name": "LSST",
   "language": "python",
   "name": "lsst"
  },
  "language_info": {
   "codemirror_mode": {
    "name": "ipython",
    "version": 3
   },
   "file_extension": ".py",
   "mimetype": "text/x-python",
   "name": "python",
   "nbconvert_exporter": "python",
   "pygments_lexer": "ipython3",
   "version": "3.8.8"
  }
 },
 "nbformat": 4,
 "nbformat_minor": 5
}
