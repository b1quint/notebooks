{
 "cells": [
  {
   "cell_type": "markdown",
   "id": "fb41338e",
   "metadata": {},
   "source": [
    "# Using Papermill - Part 1\n",
    "by Bruno C. Quint, 2021.08.27\n",
    "\n",
    "[Papermill] is a Python package that allows parametrizing Jupyter Notebooks and running them as they were scripts. This notebook shows a quick example of how to do so. You can see the full documentation in [papermill.readthedocs.io].\n",
    "\n",
    "[Papermill]: https://papermill.readthedocs.io/en/latest/index.html\n",
    "[papermill.readthedocs.io]: https://papermill.readthedocs.io/en/latest/index.html"
   ]
  },
  {
   "cell_type": "markdown",
   "id": "cd99e0ea",
   "metadata": {},
   "source": [
    "## Parametrizing a cell\n",
    "\n",
    "Once you have Papermill installed, you create a new notebook (just like this one), and create a cell containing the parameters you want to configure."
   ]
  },
  {
   "cell_type": "code",
   "execution_count": 2,
   "id": "ff103561",
   "metadata": {
    "tags": [
     "parameters"
    ]
   },
   "outputs": [],
   "source": [
    "# This cell is tagged `parameters`\n",
    "a = 1\n",
    "twice = a * 2"
   ]
  },
  {
   "cell_type": "code",
   "execution_count": 3,
   "id": "1da1596f",
   "metadata": {},
   "outputs": [
    {
     "name": "stdout",
     "output_type": "stream",
     "text": [
      "a = 1 and twice = 2\n"
     ]
    }
   ],
   "source": [
    "print(\"a =\", a, \"and twice =\", twice)"
   ]
  }
 ],
 "metadata": {
  "kernelspec": {
   "display_name": "LSST",
   "language": "python",
   "name": "lsst"
  },
  "language_info": {
   "codemirror_mode": {
    "name": "ipython",
    "version": 3
   },
   "file_extension": ".py",
   "mimetype": "text/x-python",
   "name": "python",
   "nbconvert_exporter": "python",
   "pygments_lexer": "ipython3",
   "version": "3.8.8"
  }
 },
 "nbformat": 4,
 "nbformat_minor": 5
}
