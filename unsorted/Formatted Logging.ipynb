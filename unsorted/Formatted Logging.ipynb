{
 "cells": [
  {
   "cell_type": "markdown",
   "id": "a6f03c0a",
   "metadata": {},
   "source": [
    "# Formatted Logging\n",
    "Author: Bruno C. Quint\n",
    "2021.08.19\n",
    "\n",
    "This notebooks shows how to easily have formated logging. It assumes that you are cloning the `auxtel_obsruns_env_setups` repo and running a `package setup` bash script. Here is an example:\n",
    "\n",
    "```bash\n",
    "cd ~/\n",
    "git clone https://github.com/lsst-sitcom/auxtel_obsruns_env_setups.git\n",
    "cd auxtel_obsruns_env_setups\n",
    "git fetch --all\n",
    "git checkout tickets/DM-31379\n",
    "git pull\n",
    "bash bash/lsst/sitcom/package_setup-obsrun-2021-08-12.sh\n",
    "```\n",
    "\n",
    "This feature was implemented on 2021.08.19. If you have a local `~/auto-op-env-packages/` older than this, you might have to run the `packaged_setup-obsrun-YYYY-MM-DD.sh` script again.\n",
    "\n"
   ]
  },
  {
   "cell_type": "code",
   "execution_count": 2,
   "id": "ab034c8a",
   "metadata": {},
   "outputs": [],
   "source": [
    "from lsst.ts.observing.utilities.decorated_logger import DecoratedLogger\n",
    "\n",
    "logger = DecoratedLogger.get_decorated_logger()\n",
    "\n",
    "logger.info(\"This is an INFO message\")\n",
    "logger.debug(\"This is an DEBUG message\")\n",
    "logger.warning(\"This is an WARNING message\")\n",
    "logger.error(\"This is an ERROR message\")"
   ]
  }
 ],
 "metadata": {
  "kernelspec": {
   "display_name": "LSST",
   "language": "python",
   "name": "lsst"
  },
  "language_info": {
   "codemirror_mode": {
    "name": "ipython",
    "version": 3
   },
   "file_extension": ".py",
   "mimetype": "text/x-python",
   "name": "python",
   "nbconvert_exporter": "python",
   "pygments_lexer": "ipython3",
   "version": "3.8.8"
  }
 },
 "nbformat": 4,
 "nbformat_minor": 5
}
